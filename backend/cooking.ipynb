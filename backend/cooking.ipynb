{
 "cells": [
  {
   "cell_type": "code",
   "execution_count": 15,
   "id": "e33b4a97",
   "metadata": {},
   "outputs": [],
   "source": [
    "# imports\n",
    "import pandas as pd\n",
    "import sqlite3\n",
    "import pathlib\n",
    "from sqlalchemy import create_engine, select, Column, Integer, String, Boolean\n",
    "from sqlalchemy.orm import declarative_base, sessionmaker \n",
    "\n",
    "# make database directory, ignored by .gitignore\n",
    "DB_PATH = pathlib.Path(\"databases\")\n",
    "DB_PATH.mkdir(exist_ok=True)\n",
    "db_path = DB_PATH / \"database.db\"\n",
    "\n",
    "# make uploads directory, ignored by .gitignore\n",
    "UPLOADS_PATH = pathlib.Path(\"uploads\")\n",
    "UPLOADS_PATH.mkdir(exist_ok=True)\n",
    "file_path = UPLOADS_PATH / \"sample-data.csv\"\n",
    "\n",
    "# NOTE: NEED TO UPLOAD SAMPLE CSV DATA"
   ]
  },
  {
   "cell_type": "code",
   "execution_count": 3,
   "id": "9f372347",
   "metadata": {},
   "outputs": [
    {
     "name": "stdout",
     "output_type": "stream",
     "text": [
      "Columns: ['Binder Name', 'Binder Type', 'Name', 'Set code', 'Set name', 'Collector number', 'Foil', 'Rarity', 'Quantity', 'ManaBox ID', 'Scryfall ID', 'Purchase price', 'Misprint', 'Altered', 'Condition', 'Language', 'Purchase price currency']\n"
     ]
    }
   ],
   "source": [
    "# preprocessing\n",
    "df = pd.read_csv(file_path)\n",
    "print(f\"Columns: {df.columns.tolist()}\")\n",
    "\n",
    "def preprocess_df(df: pd.DataFrame) -> pd.DataFrame:\n",
    "    df = df.copy()\n",
    "    # Normalize column names\n",
    "    df.columns = (\n",
    "        df.columns\n",
    "          .str.strip()\n",
    "          .str.lower()\n",
    "          .str.replace(' ', '_')\n",
    "          .str.replace(r'[^0-9a-z_]', '', regex=True)\n",
    "    )\n",
    "\n",
    "    # Drop the \"id\" column if it exists to prevent issues with the ORM\n",
    "    df = df.drop(columns=[\"id\"], errors=\"ignore\")\n",
    "    return df\n",
    "df_cleaned = preprocess_df(df)"
   ]
  },
  {
   "cell_type": "code",
   "execution_count": 4,
   "id": "85b9f33a",
   "metadata": {},
   "outputs": [],
   "source": [
    "# sqlalchemy\n",
    "engine = create_engine(f\"sqlite:///{str(db_path.resolve())}\")\n",
    "\n",
    "Base = declarative_base()\n",
    "\n",
    "class Collection(Base):\n",
    "    __tablename__ = \"collection\"\n",
    "\n",
    "    id = Column(Integer, primary_key=True)\n",
    "    name = Column(String)\n",
    "    set_code = Column(String)\n",
    "    collector_number = Column(String)\n",
    "    foil = Column(String)\n",
    "    rarity = Column(String)\n",
    "    quantity = Column(Integer)\n",
    "    scryfall_id = Column(String)\n",
    "    language = Column(String)\n",
    "\n",
    "def replace_collection_from_df(df: pd.DataFrame, engine):\n",
    "    \"\"\"\n",
    "    Ensure ORM schema is authoritative: drop then create the table.\n",
    "    So pandas doesn't alter the schema inadvertently.\n",
    "    \"\"\"\n",
    "    Base.metadata.drop_all(engine, tables=[Collection.__table__])\n",
    "    Base.metadata.create_all(engine)\n",
    "\n",
    "    # Align DataFrame columns with ORM\n",
    "    orm_cols = [c.name for c in Collection.__table__.columns if c.name != \"id\"]\n",
    "    df = df.reindex(columns=orm_cols)\n",
    "    \n",
    "    df.to_sql(\"collection\", con=engine, if_exists=\"append\", index=False)\n",
    "\n",
    "replace_collection_from_df(df_cleaned, engine)\n",
    "Session = sessionmaker(bind=engine)"
   ]
  },
  {
   "cell_type": "code",
   "execution_count": 16,
   "id": "815174d9",
   "metadata": {},
   "outputs": [
    {
     "data": {
      "text/plain": [
       "[<__main__.Collection at 0x22b2387cc30>,\n",
       " <__main__.Collection at 0x22b2387cff0>,\n",
       " <__main__.Collection at 0x22b2387d130>,\n",
       " <__main__.Collection at 0x22b2387d3b0>,\n",
       " <__main__.Collection at 0x22b2387d310>,\n",
       " <__main__.Collection at 0x22b2387d630>,\n",
       " <__main__.Collection at 0x22b2387c910>,\n",
       " <__main__.Collection at 0x22b2387d450>]"
      ]
     },
     "execution_count": 16,
     "metadata": {},
     "output_type": "execute_result"
    }
   ],
   "source": [
    "with Session() as session:\n",
    "    stmt = select(Collection).filter(Collection.name.like('%Orcish%')).limit(10)\n",
    "    results = session.scalars(stmt).all()\n",
    "[r for r in results]"
   ]
  }
 ],
 "metadata": {
  "kernelspec": {
   "display_name": "backend (3.13.5)",
   "language": "python",
   "name": "python3"
  },
  "language_info": {
   "codemirror_mode": {
    "name": "ipython",
    "version": 3
   },
   "file_extension": ".py",
   "mimetype": "text/x-python",
   "name": "python",
   "nbconvert_exporter": "python",
   "pygments_lexer": "ipython3",
   "version": "3.13.5"
  }
 },
 "nbformat": 4,
 "nbformat_minor": 5
}
